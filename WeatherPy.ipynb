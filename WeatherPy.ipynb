{
 "cells": [
  {
   "cell_type": "markdown",
   "metadata": {},
   "source": [
    "# WeatherPy\n",
    "\n",
    "---\n",
    "\n",
    "## Starter Code to Generate Random Geographic Coordinates and a List of Cities"
   ]
  },
  {
   "cell_type": "code",
   "execution_count": 2,
   "metadata": {
    "scrolled": true
   },
   "outputs": [],
   "source": [
    "# Dependencies and Setup\n",
    "import matplotlib.pyplot as plt\n",
    "import pandas as pd\n",
    "import numpy as np\n",
    "import requests\n",
    "import time\n",
    "from scipy.stats import linregress\n",
    "\n",
    "# Impor the OpenWeatherMap API key\n",
    "from api_keys import weather_api_key\n",
    "\n",
    "# Import citipy to determine the cities based on latitude and longitude\n",
    "from citipy import citipy"
   ]
  },
  {
   "cell_type": "markdown",
   "metadata": {},
   "source": [
    "### Generate the Cities List by Using the `citipy` Library"
   ]
  },
  {
   "cell_type": "code",
   "execution_count": 4,
   "metadata": {},
   "outputs": [
    {
     "name": "stdout",
     "output_type": "stream",
     "text": [
      "Number of cities in the list: 615\n"
     ]
    }
   ],
   "source": [
    "# Empty list for holding the latitude and longitude combinations\n",
    "lat_lngs = []\n",
    "\n",
    "# Empty list for holding the cities names\n",
    "cities = []\n",
    "\n",
    "# Range of latitudes and longitudes\n",
    "lat_range = (-90, 90)\n",
    "lng_range = (-180, 180)\n",
    "\n",
    "# Create a set of random lat and lng combinations\n",
    "lats = np.random.uniform(lat_range[0], lat_range[1], size=1500)\n",
    "lngs = np.random.uniform(lng_range[0], lng_range[1], size=1500)\n",
    "lat_lngs = zip(lats, lngs)\n",
    "\n",
    "# Identify nearest city for each lat, lng combination\n",
    "for lat_lng in lat_lngs:\n",
    "    city = citipy.nearest_city(lat_lng[0], lat_lng[1]).city_name\n",
    "\n",
    "    # If the city is unique, then add it to a our cities list\n",
    "    if city not in cities:\n",
    "        cities.append(city)\n",
    "\n",
    "# Print the city count to confirm sufficient count\n",
    "print(f\"Number of cities in the list: {len(cities)}\")"
   ]
  },
  {
   "cell_type": "markdown",
   "metadata": {},
   "source": [
    "---"
   ]
  },
  {
   "cell_type": "markdown",
   "metadata": {},
   "source": [
    "## Requirement 1: Create Plots to Showcase the Relationship Between Weather Variables and Latitude\n",
    "\n",
    "### Use the OpenWeatherMap API to retrieve weather data from the cities list generated in the started code"
   ]
  },
  {
   "cell_type": "code",
   "execution_count": null,
   "metadata": {},
   "outputs": [
    {
     "name": "stdout",
     "output_type": "stream",
     "text": [
      "Beginning Data Retrieval     \n",
      "-----------------------------\n",
      "Processing Record 1 of Set 1 | opuwo\n",
      "Processing Record 2 of Set 1 | port-aux-francais\n",
      "Processing Record 3 of Set 1 | adamstown\n",
      "Processing Record 4 of Set 1 | fortuna\n",
      "Processing Record 5 of Set 1 | waitangi\n",
      "Processing Record 6 of Set 1 | tiksi\n",
      "Processing Record 7 of Set 1 | taltal\n",
      "Processing Record 8 of Set 1 | new norfolk\n",
      "Processing Record 9 of Set 1 | lazaro cardenas\n",
      "Processing Record 10 of Set 1 | puerto natales\n",
      "Processing Record 11 of Set 1 | bredasdorp\n",
      "Processing Record 12 of Set 1 | olavarria\n",
      "Processing Record 13 of Set 1 | bethel\n",
      "Processing Record 14 of Set 1 | bilibino\n",
      "Processing Record 15 of Set 1 | grytviken\n",
      "Processing Record 16 of Set 1 | ambon\n",
      "Processing Record 17 of Set 1 | thompson\n",
      "Processing Record 18 of Set 1 | palikir - national government center\n",
      "Processing Record 19 of Set 1 | hauterive\n",
      "Processing Record 20 of Set 1 | tabuan\n",
      "Processing Record 21 of Set 1 | kununurra\n",
      "Processing Record 22 of Set 1 | port mathurin\n",
      "Processing Record 23 of Set 1 | fort bragg\n",
      "Processing Record 24 of Set 1 | alghero\n",
      "Processing Record 25 of Set 1 | fort st. john\n",
      "Processing Record 26 of Set 1 | jamestown\n",
      "Processing Record 27 of Set 1 | ola\n",
      "Processing Record 28 of Set 1 | whitehorse\n",
      "Processing Record 29 of Set 1 | santa ana\n",
      "Processing Record 30 of Set 1 | vilyuchinsk\n",
      "Processing Record 31 of Set 1 | klyuchi\n",
      "Processing Record 32 of Set 1 | port elizabeth\n",
      "Processing Record 33 of Set 1 | utrik\n",
      "Processing Record 34 of Set 1 | tofol\n",
      "Processing Record 35 of Set 1 | port saint john's\n",
      "Processing Record 36 of Set 1 | tamanrasset\n",
      "Processing Record 37 of Set 1 | sinabang\n",
      "Processing Record 38 of Set 1 | edinburgh of the seven seas\n",
      "Processing Record 39 of Set 1 | ushuaia\n",
      "Processing Record 40 of Set 1 | aykhal\n",
      "Processing Record 41 of Set 1 | chos malal\n",
      "Processing Record 42 of Set 1 | inhambane\n",
      "Processing Record 43 of Set 1 | butte\n",
      "Processing Record 44 of Set 1 | port lincoln\n",
      "Processing Record 45 of Set 1 | kavaratti\n",
      "Processing Record 46 of Set 1 | marrakesh\n",
      "Processing Record 47 of Set 1 | wailua homesteads\n",
      "Processing Record 48 of Set 1 | uruguaiana\n",
      "Processing Record 49 of Set 1 | aasiaat\n",
      "Processing Record 50 of Set 1 | sougueur\n",
      "Processing Record 0 of Set 2 | puerto ayora\n",
      "Processing Record 1 of Set 2 | papatowai\n",
      "Processing Record 2 of Set 2 | ebon\n",
      "Processing Record 3 of Set 2 | yellowknife\n",
      "Processing Record 4 of Set 2 | vilyuysk\n",
      "Processing Record 5 of Set 2 | ilulissat\n",
      "Processing Record 6 of Set 2 | margaret river\n",
      "Processing Record 7 of Set 2 | demyansk\n",
      "Processing Record 8 of Set 2 | afaahiti\n",
      "Processing Record 9 of Set 2 | saudarkrokur\n",
      "Processing Record 10 of Set 2 | st. john's\n",
      "Processing Record 11 of Set 2 | emerald\n",
      "Processing Record 12 of Set 2 | dudinka\n",
      "Processing Record 13 of Set 2 | albany\n",
      "Processing Record 14 of Set 2 | constantia\n",
      "Processing Record 15 of Set 2 | ribeira grande\n",
      "Processing Record 16 of Set 2 | qaqortoq\n",
      "Processing Record 17 of Set 2 | akom ii\n",
      "Processing Record 18 of Set 2 | hirara\n",
      "Processing Record 19 of Set 2 | ceelbuur\n",
      "Processing Record 20 of Set 2 | pisco\n",
      "Processing Record 21 of Set 2 | akureyri\n",
      "Processing Record 22 of Set 2 | sandnessjoen\n",
      "Processing Record 23 of Set 2 | katpur\n",
      "Processing Record 24 of Set 2 | college\n",
      "Processing Record 25 of Set 2 | tereze\n",
      "Processing Record 26 of Set 2 | rey bouba\n",
      "Processing Record 27 of Set 2 | blackmans bay\n",
      "Processing Record 28 of Set 2 | maues\n",
      "Processing Record 29 of Set 2 | udachny\n",
      "Processing Record 30 of Set 2 | korfez\n",
      "Processing Record 31 of Set 2 | east london\n",
      "Processing Record 32 of Set 2 | selfoss\n",
      "Processing Record 33 of Set 2 | minas de marcona\n",
      "Processing Record 34 of Set 2 | hami\n",
      "Processing Record 35 of Set 2 | santana\n",
      "Processing Record 36 of Set 2 | rio grande\n",
      "Processing Record 37 of Set 2 | tura\n",
      "Processing Record 38 of Set 2 | necochea\n",
      "Processing Record 39 of Set 2 | guarapari\n",
      "Processing Record 40 of Set 2 | taiohae\n",
      "City not found. Skipping...\n",
      "Processing Record 41 of Set 2 | tazovsky\n",
      "Processing Record 42 of Set 2 | avarua\n",
      "Processing Record 43 of Set 2 | lorengau\n",
      "Processing Record 44 of Set 2 | tranovaho\n",
      "City not found. Skipping...\n",
      "Processing Record 45 of Set 2 | medina\n",
      "Processing Record 46 of Set 2 | zuunmod\n",
      "Processing Record 47 of Set 2 | ust'-ilimsk\n",
      "Processing Record 48 of Set 2 | san fernando de monte cristi\n",
      "Processing Record 49 of Set 2 | el calafate\n",
      "Processing Record 0 of Set 3 | punta arenas\n",
      "Processing Record 1 of Set 3 | lompoc\n",
      "Processing Record 2 of Set 3 | atafu village\n",
      "Processing Record 3 of Set 3 | kimbe\n",
      "Processing Record 4 of Set 3 | la sarre\n",
      "Processing Record 5 of Set 3 | papao\n",
      "Processing Record 6 of Set 3 | kingston\n",
      "Processing Record 7 of Set 3 | namibe\n",
      "Processing Record 8 of Set 3 | laguna\n",
      "Processing Record 9 of Set 3 | alice springs\n",
      "Processing Record 10 of Set 3 | west island\n",
      "Processing Record 11 of Set 3 | alofi\n",
      "Processing Record 12 of Set 3 | boende\n",
      "Processing Record 13 of Set 3 | vorgashor\n",
      "Processing Record 14 of Set 3 | at taj\n",
      "Processing Record 15 of Set 3 | fale old settlement\n",
      "Processing Record 16 of Set 3 | badger\n",
      "Processing Record 17 of Set 3 | karak city\n",
      "Processing Record 18 of Set 3 | san andres\n",
      "Processing Record 19 of Set 3 | yagry\n",
      "City not found. Skipping...\n",
      "Processing Record 20 of Set 3 | longyearbyen\n",
      "Processing Record 21 of Set 3 | shitanjing\n",
      "Processing Record 22 of Set 3 | tapes\n",
      "Processing Record 23 of Set 3 | maubara\n",
      "City not found. Skipping...\n",
      "Processing Record 24 of Set 3 | waingapu\n",
      "Processing Record 25 of Set 3 | francistown\n",
      "Processing Record 26 of Set 3 | san antonio de pale\n",
      "Processing Record 27 of Set 3 | enterprise\n",
      "Processing Record 28 of Set 3 | talnakh\n",
      "Processing Record 29 of Set 3 | shimoda\n",
      "Processing Record 30 of Set 3 | puerto baquerizo moreno\n",
      "Processing Record 31 of Set 3 | labuan\n",
      "Processing Record 32 of Set 3 | happy valley-goose bay\n",
      "Processing Record 33 of Set 3 | presque isle\n",
      "Processing Record 34 of Set 3 | gun barrel city\n",
      "Processing Record 35 of Set 3 | lebu\n",
      "Processing Record 36 of Set 3 | enewetak\n",
      "Processing Record 37 of Set 3 | bodaybo\n",
      "Processing Record 38 of Set 3 | mejit\n",
      "Processing Record 39 of Set 3 | ghormach\n",
      "Processing Record 40 of Set 3 | the boldons\n",
      "Processing Record 41 of Set 3 | deqen\n",
      "Processing Record 42 of Set 3 | dunedin\n",
      "Processing Record 43 of Set 3 | vadso\n",
      "Processing Record 44 of Set 3 | hammerfest\n",
      "Processing Record 45 of Set 3 | santiago\n",
      "Processing Record 46 of Set 3 | likiep\n",
      "Processing Record 47 of Set 3 | skelleftea\n",
      "Processing Record 48 of Set 3 | kudat\n",
      "Processing Record 49 of Set 3 | uturoa\n",
      "Processing Record 0 of Set 4 | erdemli\n",
      "Processing Record 1 of Set 4 | touros\n",
      "Processing Record 2 of Set 4 | el nido\n",
      "Processing Record 3 of Set 4 | luderitz\n",
      "Processing Record 4 of Set 4 | nanao\n",
      "Processing Record 5 of Set 4 | sao jose do egito\n",
      "Processing Record 6 of Set 4 | ceeldheer\n",
      "Processing Record 7 of Set 4 | hohhot\n",
      "Processing Record 8 of Set 4 | isafjordur\n",
      "Processing Record 9 of Set 4 | arpajon-sur-cere\n",
      "Processing Record 10 of Set 4 | ancud\n",
      "Processing Record 11 of Set 4 | cadillac\n",
      "Processing Record 12 of Set 4 | qarah zia' od din\n",
      "Processing Record 13 of Set 4 | richards bay\n",
      "Processing Record 14 of Set 4 | cargados carajos\n",
      "City not found. Skipping...\n",
      "Processing Record 15 of Set 4 | taoudenni\n",
      "Processing Record 16 of Set 4 | invercargill\n",
      "Processing Record 17 of Set 4 | lerwick\n",
      "Processing Record 18 of Set 4 | tarinkot\n",
      "Processing Record 19 of Set 4 | san clemente\n",
      "Processing Record 20 of Set 4 | port-vila\n",
      "Processing Record 21 of Set 4 | taroa\n",
      "Processing Record 22 of Set 4 | nizhneudinsk\n",
      "Processing Record 23 of Set 4 | nacajuca\n",
      "Processing Record 24 of Set 4 | szczytna\n",
      "Processing Record 25 of Set 4 | smithers\n",
      "Processing Record 26 of Set 4 | kailua-kona\n",
      "Processing Record 27 of Set 4 | naze\n",
      "Processing Record 28 of Set 4 | annau\n",
      "Processing Record 29 of Set 4 | cockburn town\n",
      "Processing Record 30 of Set 4 | labrador city\n",
      "Processing Record 31 of Set 4 | aras-asan\n",
      "Processing Record 32 of Set 4 | georgetown\n",
      "Processing Record 33 of Set 4 | antofagasta\n",
      "Processing Record 34 of Set 4 | raja\n",
      "Processing Record 35 of Set 4 | tannum sands\n",
      "Processing Record 36 of Set 4 | ust-tsilma\n",
      "Processing Record 37 of Set 4 | belyy yar\n",
      "Processing Record 38 of Set 4 | milagres\n",
      "Processing Record 39 of Set 4 | maceio\n",
      "Processing Record 40 of Set 4 | callao\n",
      "Processing Record 41 of Set 4 | maughold\n",
      "Processing Record 42 of Set 4 | baruun-urt\n",
      "Processing Record 43 of Set 4 | malakal\n",
      "Processing Record 44 of Set 4 | abadan\n",
      "Processing Record 45 of Set 4 | itacare\n",
      "Processing Record 46 of Set 4 | kamaishi\n",
      "Processing Record 47 of Set 4 | mount gambier\n",
      "Processing Record 48 of Set 4 | morbi\n",
      "Processing Record 49 of Set 4 | suklayin\n",
      "Processing Record 0 of Set 5 | linhares\n",
      "Processing Record 1 of Set 5 | zhelezinka\n",
      "Processing Record 2 of Set 5 | ailuk\n",
      "Processing Record 3 of Set 5 | iqaluit\n",
      "Processing Record 4 of Set 5 | yamada\n",
      "Processing Record 5 of Set 5 | vanimo\n",
      "Processing Record 6 of Set 5 | crane\n",
      "Processing Record 7 of Set 5 | glace bay\n",
      "Processing Record 8 of Set 5 | hawaiian paradise park\n",
      "Processing Record 9 of Set 5 | saint-philippe\n",
      "Processing Record 10 of Set 5 | limon\n",
      "Processing Record 11 of Set 5 | flying fish cove\n",
      "Processing Record 12 of Set 5 | kone\n",
      "Processing Record 13 of Set 5 | longboat key\n",
      "Processing Record 14 of Set 5 | sipalay\n",
      "Processing Record 15 of Set 5 | ciudad general escobedo\n",
      "Processing Record 16 of Set 5 | belmonte\n",
      "Processing Record 17 of Set 5 | kilindoni\n",
      "Processing Record 18 of Set 5 | remire-montjoly\n",
      "Processing Record 19 of Set 5 | znamenskoye\n",
      "Processing Record 20 of Set 5 | vargarda\n",
      "Processing Record 21 of Set 5 | brookings\n",
      "Processing Record 22 of Set 5 | beau vallon\n",
      "Processing Record 23 of Set 5 | saipan\n",
      "Processing Record 24 of Set 5 | kodiak\n",
      "Processing Record 25 of Set 5 | sihanoukville\n",
      "Processing Record 26 of Set 5 | awjilah\n",
      "Processing Record 27 of Set 5 | 'ohonua\n",
      "City not found. Skipping...\n",
      "Processing Record 28 of Set 5 | karratha\n",
      "Processing Record 29 of Set 5 | mahanoro\n",
      "Processing Record 30 of Set 5 | yuzhno-kurilsk\n",
      "Processing Record 31 of Set 5 | ventspils\n",
      "Processing Record 32 of Set 5 | twon-brass\n",
      "Processing Record 33 of Set 5 | polyarnyy\n",
      "Processing Record 34 of Set 5 | pyin oo lwin\n",
      "Processing Record 35 of Set 5 | bureya\n",
      "Processing Record 36 of Set 5 | iskateley\n",
      "Processing Record 37 of Set 5 | robertsport\n",
      "Processing Record 38 of Set 5 | ust-nera\n",
      "Processing Record 39 of Set 5 | makubetsu\n",
      "Processing Record 40 of Set 5 | pariang\n",
      "City not found. Skipping...\n",
      "Processing Record 41 of Set 5 | tralee\n",
      "Processing Record 42 of Set 5 | tsiombe\n",
      "Processing Record 43 of Set 5 | tara\n",
      "Processing Record 44 of Set 5 | mohr\n",
      "Processing Record 45 of Set 5 | portland\n",
      "Processing Record 46 of Set 5 | ma'rib\n",
      "Processing Record 47 of Set 5 | seven pagodas\n",
      "Processing Record 48 of Set 5 | lihue\n",
      "Processing Record 49 of Set 5 | kenai\n",
      "Processing Record 0 of Set 6 | bardai\n",
      "Processing Record 1 of Set 6 | atherton\n",
      "Processing Record 2 of Set 6 | marka\n",
      "Processing Record 3 of Set 6 | malinalco\n",
      "Processing Record 4 of Set 6 | vega de alatorre\n",
      "Processing Record 5 of Set 6 | missoula\n",
      "Processing Record 6 of Set 6 | sena madureira\n",
      "Processing Record 7 of Set 6 | suwayr\n",
      "Processing Record 8 of Set 6 | anibare\n",
      "City not found. Skipping...\n",
      "Processing Record 9 of Set 6 | kirakira\n",
      "Processing Record 10 of Set 6 | cabedelo\n",
      "Processing Record 11 of Set 6 | gao\n",
      "Processing Record 12 of Set 6 | sechura\n",
      "Processing Record 13 of Set 6 | livadeia\n",
      "Processing Record 14 of Set 6 | erdenet\n",
      "Processing Record 15 of Set 6 | toga village\n",
      "City not found. Skipping...\n",
      "Processing Record 16 of Set 6 | rabaul\n",
      "Processing Record 17 of Set 6 | trairi\n",
      "Processing Record 18 of Set 6 | champerico\n",
      "Processing Record 19 of Set 6 | vila franca do campo\n",
      "Processing Record 20 of Set 6 | pahrump\n",
      "Processing Record 21 of Set 6 | nar'yan-mar\n",
      "Processing Record 22 of Set 6 | la passe\n",
      "Processing Record 23 of Set 6 | santo domingo petapa\n",
      "Processing Record 24 of Set 6 | coquimbo\n",
      "Processing Record 25 of Set 6 | hamilton\n",
      "Processing Record 26 of Set 6 | witu\n",
      "Processing Record 27 of Set 6 | eureka\n",
      "Processing Record 28 of Set 6 | bengkulu\n",
      "Processing Record 29 of Set 6 | mahina\n",
      "Processing Record 30 of Set 6 | hailun\n",
      "Processing Record 31 of Set 6 | saldanha\n",
      "Processing Record 32 of Set 6 | ballina\n",
      "Processing Record 33 of Set 6 | ryotsu-minato\n",
      "Processing Record 34 of Set 6 | stanley\n",
      "Processing Record 35 of Set 6 | i-n-salah\n",
      "Processing Record 36 of Set 6 | beyla\n",
      "Processing Record 37 of Set 6 | bury st edmunds\n",
      "Processing Record 38 of Set 6 | kapuskasing\n"
     ]
    }
   ],
   "source": [
    "# Set the API base URL\n",
    "url = 'https://api.openweathermap.org/data/2.5/weather?'\n",
    "\n",
    "# Define an empty list to fetch the weather data for each city\n",
    "city_data = []\n",
    "\n",
    "# Print to logger\n",
    "print(\"Beginning Data Retrieval     \")\n",
    "print(\"-----------------------------\")\n",
    "\n",
    "# Create counters\n",
    "record_count = 1\n",
    "set_count = 1\n",
    "\n",
    "# Loop through all the cities in our list to fetch weather data\n",
    "for i, city in enumerate(cities):\n",
    "\n",
    "    # Group cities in sets of 50 for logging purposes\n",
    "    if (i % 50 == 0 and i >= 50):\n",
    "        set_count += 1\n",
    "        record_count = 0\n",
    "\n",
    "    # Create endpoint URL with each city\n",
    "    city_url = f\"{url}q={city}&units=metric&appid={weather_api_key}\"\n",
    "    \n",
    "    # Log the url, record, and set numbers\n",
    "    print(\"Processing Record %s of Set %s | %s\" % (record_count, set_count, city))\n",
    "\n",
    "    # Add 1 to the record count\n",
    "    record_count += 1\n",
    "\n",
    "    # Run an API request for each of the cities\n",
    "    try:\n",
    "        # Parse the JSON and retrieve data\n",
    "        city_weather = requests.get(city_url).json()\n",
    "        \n",
    "        # Parse out latitude, longitude, max temp, humidity, cloudiness, wind speed, country, and date\n",
    "        city_lat = city_weather['coord']['lat']\n",
    "        city_lng = city_weather['coord']['lon']\n",
    "        city_max_temp = city_weather['main']['temp_max']\n",
    "        city_humidity = city_weather['main']['humidity']\n",
    "        city_clouds = city_weather['clouds']['all']\n",
    "        city_wind = city_weather['wind']['speed']\n",
    "        city_country = city_weather['sys']['country']\n",
    "        city_date = city_weather['dt']\n",
    "\n",
    "\n",
    "        # Append the City information into city_data list\n",
    "        city_data.append({\"City\": city,\n",
    "                          \"Lat\": city_lat,\n",
    "                          \"Lng\": city_lng,\n",
    "                          \"Max Temp\": city_max_temp,\n",
    "                          \"Humidity\": city_humidity,\n",
    "                          \"Cloudiness\": city_clouds,\n",
    "                          \"Wind Speed\": city_wind,\n",
    "                          \"Country\": city_country,\n",
    "                          \"Date\": city_date})\n",
    "\n",
    "    # If an error is experienced, skip the city\n",
    "    except:\n",
    "        print(\"City not found. Skipping...\")\n",
    "        pass\n",
    "\n",
    "    # pause to avoid rate limiting\n",
    "    time.sleep(1)\n",
    "\n",
    "# Indicate that Data Loading is complete\n",
    "print(\"-----------------------------\")\n",
    "print(\"Data Retrieval Complete      \")\n",
    "print(\"-----------------------------\")"
   ]
  },
  {
   "cell_type": "code",
   "execution_count": null,
   "metadata": {},
   "outputs": [],
   "source": [
    "# Convert the cities weather data into a Pandas DataFrame\n",
    "city_data_df = pd.DataFrame(city_data)\n",
    "# Show Record Count\n",
    "city_data_df.count()"
   ]
  },
  {
   "cell_type": "code",
   "execution_count": null,
   "metadata": {},
   "outputs": [],
   "source": [
    "# Display sample data\n",
    "city_data_df.head()"
   ]
  },
  {
   "cell_type": "code",
   "execution_count": null,
   "metadata": {},
   "outputs": [],
   "source": [
    "# Export the City_Data into a csv\n",
    "city_data_df.to_csv(\"output_data/cities.csv\", index_label=\"City_ID\")"
   ]
  },
  {
   "cell_type": "code",
   "execution_count": null,
   "metadata": {},
   "outputs": [],
   "source": [
    "# Read saved data\n",
    "city_data_df = pd.read_csv(\"output_data/cities.csv\", index_col=\"City_ID\")\n",
    "\n",
    "# Display sample data\n",
    "city_data_df.head()"
   ]
  },
  {
   "cell_type": "markdown",
   "metadata": {},
   "source": [
    "### Create the Scatter Plots Requested\n",
    "\n",
    "#### Latitude Vs. Temperature"
   ]
  },
  {
   "cell_type": "code",
   "execution_count": null,
   "metadata": {
    "tags": []
   },
   "outputs": [],
   "source": [
    "# Build scatter plot for latitude vs. temperature\n",
    "plt.scatter(city_data_df['Lat'],city_data_df['Max Temp'], marker='o', edgecolor='black')\n",
    "\n",
    "# Incorporate the other graph properties\n",
    "plt.xlabel('Latitude')\n",
    "plt.ylabel('Max Temperature(C)')\n",
    "plt.title('City Latitude vs.Temperature(2022-10-18)')\n",
    "plt.grid()\n",
    "\n",
    "# Save the figure\n",
    "plt.savefig(\"output_data/Fig1.png\")\n",
    "\n",
    "# Show plot\n",
    "plt.show()"
   ]
  },
  {
   "cell_type": "markdown",
   "metadata": {},
   "source": [
    "#### Latitude Vs. Humidity"
   ]
  },
  {
   "cell_type": "code",
   "execution_count": null,
   "metadata": {},
   "outputs": [],
   "source": [
    "# Build the scatter plots for latitude vs. humidity\n",
    "plt.scatter(city_data_df['Lat'],city_data_df['Humidity'], marker='o', edgecolor='black')\n",
    "\n",
    "# Incorporate the other graph properties\n",
    "plt.xlabel('Latitude')\n",
    "plt.ylabel('Humidity(%)')\n",
    "plt.title('City Latitude vs.Humidity(2022-10-18)')\n",
    "plt.grid()\n",
    "\n",
    "# Save the figure\n",
    "plt.savefig(\"output_data/Fig2.png\")\n",
    "\n",
    "# Show plot\n",
    "plt.show()"
   ]
  },
  {
   "cell_type": "markdown",
   "metadata": {},
   "source": [
    "#### Latitude Vs. Cloudiness"
   ]
  },
  {
   "cell_type": "code",
   "execution_count": null,
   "metadata": {},
   "outputs": [],
   "source": [
    "# Build the scatter plots for latitude vs. cloudiness\n",
    "plt.scatter(city_data_df['Lat'],city_data_df['Cloudiness'], marker='o', edgecolor='black')\n",
    "\n",
    "# Incorporate the other graph properties\n",
    "plt.xlabel('Latitude')\n",
    "plt.ylabel('Cloudiness(%)')\n",
    "plt.title('City Latitude vs.Cloudiness(2022-10-18)')\n",
    "plt.grid()\n",
    "\n",
    "# Save the figure\n",
    "plt.savefig(\"output_data/Fig3.png\")\n",
    "\n",
    "# Show plot\n",
    "plt.show()"
   ]
  },
  {
   "cell_type": "markdown",
   "metadata": {},
   "source": [
    "#### Latitude vs. Wind Speed Plot"
   ]
  },
  {
   "cell_type": "code",
   "execution_count": null,
   "metadata": {},
   "outputs": [],
   "source": [
    "# Build the scatter plots for latitude vs. wind speed\n",
    "plt.scatter(city_data_df['Lat'],city_data_df['Wind Speed'], marker='o', edgecolor='black')\n",
    "\n",
    "# Incorporate the other graph properties\n",
    "plt.xlabel('Latitude')\n",
    "plt.ylabel('Wind Speed(m/s)')\n",
    "plt.title('City Latitude vs.Wind Speed(2022-10-18)')\n",
    "plt.grid()\n",
    "\n",
    "# Save the figure\n",
    "plt.savefig(\"output_data/Fig4.png\")\n",
    "\n",
    "# Show plot\n",
    "plt.show()"
   ]
  },
  {
   "cell_type": "markdown",
   "metadata": {},
   "source": [
    "---\n",
    "\n",
    "## Requirement 2: Compute Linear Regression for Each Relationship\n"
   ]
  },
  {
   "cell_type": "code",
   "execution_count": null,
   "metadata": {},
   "outputs": [],
   "source": [
    "# Define a function to create Linear Regression plots\n",
    "def linear_reg(x_axis, y_axis,eq_loc):  \n",
    "    correlation = st.pearsonr(x_axis,y_axis)\n",
    "    p_slope, p_int, p_r, p_p, p_std_err = st.linregress(x_axis, y_axis)\n",
    "    p_fit = p_slope * x_axis + p_int\n",
    "    eq= f\"y ={p_slope: .2f}x +{ p_int: .2f}\"\n",
    "       \n",
    "    #Plot the line\n",
    "    plt.scatter(x_axis, y_axis ,marker=\"o\")\n",
    "    plt.plot(x_axis,p_fit,\"--\", color='red')\n",
    "    plt.annotate(eq, eq_loc, fontsize=12, color='red')\n",
    "    print(f\"The r-value between {x_axis.name} and {y_axis.name} is {round(correlation[0],2)}\")"
   ]
  },
  {
   "cell_type": "code",
   "execution_count": null,
   "metadata": {},
   "outputs": [],
   "source": [
    "# Create a DataFrame with the Northern Hemisphere data (Latitude >= 0)\n",
    "northern_hemi_df = city_data_df.loc[city_data_df['Lat']>=0]\n",
    "\n",
    "# Display sample data\n",
    "northern_hemi_df.head()"
   ]
  },
  {
   "cell_type": "code",
   "execution_count": null,
   "metadata": {},
   "outputs": [],
   "source": [
    "# Create a DataFrame with the Southern Hemisphere data (Latitude < 0)\n",
    "southern_hemi_df = city_data_df.loc[city_data_df['Lat']<0]\n",
    "\n",
    "# Display sample data\n",
    "southern_hemi_df.head()"
   ]
  },
  {
   "cell_type": "markdown",
   "metadata": {},
   "source": [
    "###  Temperature vs. Latitude Linear Regression Plot"
   ]
  },
  {
   "cell_type": "code",
   "execution_count": null,
   "metadata": {},
   "outputs": [],
   "source": [
    "# Linear regression on Northern Hemisphere\n",
    "linear_reg(northern_hemi_df['Lat'], northern_hemi_df['Max Temp'],(10, -10))\n",
    "plt.xlabel('Latitude')\n",
    "plt.ylabel('Temperature(C)')\n"
   ]
  },
  {
   "cell_type": "code",
   "execution_count": null,
   "metadata": {},
   "outputs": [],
   "source": [
    "# Linear regression on Southern Hemisphere\n",
    "linear_reg(southern_hemi_df['Lat'], southern_hemi_df['Max Temp'],(-30, 5))\n",
    "plt.xlabel('Latitude')\n",
    "plt.ylabel('Temperature(C)')"
   ]
  },
  {
   "cell_type": "markdown",
   "metadata": {},
   "source": [
    "**Discussion about the linear relationship:** In the northern hemisphere, there is a strong negative correlation (-0.81) between a city's latitude and temperature. This means that as a city's latitude increases, its temperature tends to decrease. Conversely, in the southern hemisphere, the relationship between latitude and temperature is positively correlated (0.73), indicating that as latitude increases, the temperature of the city generally rises.\n",
    "\n"
   ]
  },
  {
   "cell_type": "markdown",
   "metadata": {},
   "source": [
    "### Humidity vs. Latitude Linear Regression Plot"
   ]
  },
  {
   "cell_type": "code",
   "execution_count": null,
   "metadata": {},
   "outputs": [],
   "source": [
    "# Northern Hemisphere\n",
    "linear_reg(northern_hemi_df['Lat'], northern_hemi_df['Humidity'],(55, 10))\n",
    "plt.xlabel('Latitude')\n",
    "plt.ylabel('Humidity(%)')"
   ]
  },
  {
   "cell_type": "code",
   "execution_count": null,
   "metadata": {},
   "outputs": [],
   "source": [
    "# Southern Hemisphere\n",
    "linear_reg(southern_hemi_df['Lat'], southern_hemi_df['Humidity'],(-50, 25))\n",
    "plt.xlabel('Latitude')\n",
    "plt.ylabel('Humidity(%)')"
   ]
  },
  {
   "cell_type": "markdown",
   "metadata": {},
   "source": [
    "**Discussion about the linear relationship:** In the northern hemisphere, there is a weak positive correlation (0.16) between a city's latitude and its humidity. This suggests that as latitude increases, there is a slight tendency for humidity to rise, although the effect is not strong. Similarly, in the southern hemisphere, the correlation between latitude and humidity is also weak (0.08), indicating that while humidity may increase with latitude, the change is minimal and occurs at a slower rate."
   ]
  },
  {
   "cell_type": "markdown",
   "metadata": {},
   "source": [
    "### Cloudiness vs. Latitude Linear Regression Plot"
   ]
  },
  {
   "cell_type": "code",
   "execution_count": null,
   "metadata": {},
   "outputs": [],
   "source": [
    "# Northern Hemisphere\n",
    "linear_reg(northern_hemi_df['Lat'], northern_hemi_df['Cloudiness'],(50, 50))\n",
    "plt.xlabel('Latitude')\n",
    "plt.ylabel('Cloudiness(%)')"
   ]
  },
  {
   "cell_type": "code",
   "execution_count": null,
   "metadata": {},
   "outputs": [],
   "source": [
    "# Southern Hemisphere\n",
    "linear_reg(southern_hemi_df['Lat'], southern_hemi_df['Cloudiness'],(-50, 65))\n",
    "plt.xlabel('Latitude')\n",
    "plt.ylabel('Cloudiness(%)')"
   ]
  },
  {
   "cell_type": "markdown",
   "metadata": {},
   "source": [
    "**Discussion about the linear relationship:** In the northern hemisphere, the relationship between a city's latitude and its cloudiness level is nearly nonexistent, with a correlation of just 0.02. This suggests that a city's cloudiness is not significantly affected by its latitude. A similar pattern is observed in the southern hemisphere, where the correlation is also very low, at 0.17, indicating little to no connection between latitude and cloudiness levels."
   ]
  },
  {
   "cell_type": "markdown",
   "metadata": {},
   "source": [
    "### Wind Speed vs. Latitude Linear Regression Plot"
   ]
  },
  {
   "cell_type": "code",
   "execution_count": null,
   "metadata": {},
   "outputs": [],
   "source": [
    "# Northern Hemisphere\n",
    "linear_reg(northern_hemi_df['Lat'], northern_hemi_df['Wind Speed'],(10, 12))\n",
    "plt.xlabel('Latitude')\n",
    "plt.ylabel('Wind Speed(m/s)')"
   ]
  },
  {
   "cell_type": "code",
   "execution_count": null,
   "metadata": {},
   "outputs": [],
   "source": [
    "# Southern Hemisphere\n",
    "linear_reg(southern_hemi_df['Lat'], southern_hemi_df['Wind Speed'],(-50, 9))\n",
    "plt.xlabel('Latitude')\n",
    "plt.ylabel('Wind Speed(m/s)')"
   ]
  },
  {
   "cell_type": "markdown",
   "metadata": {},
   "source": [
    "**Discussion about the linear relationship:**  In northern hemisphere, a city's latitude and wind speed have no coorelation(0.00) - that is to say a city's windy level is not proportional to its latitude. \n",
    "There is a similar events in southern hemisphere, with little/minor negative coorelation(-0.17) between city's latitude and wind speed."
   ]
  },
  {
   "cell_type": "code",
   "execution_count": null,
   "metadata": {},
   "outputs": [],
   "source": []
  }
 ],
 "metadata": {
  "anaconda-cloud": {},
  "kernel_info": {
   "name": "python3"
  },
  "kernelspec": {
   "display_name": "Python 3 (ipykernel)",
   "language": "python",
   "name": "python3"
  },
  "language_info": {
   "codemirror_mode": {
    "name": "ipython",
    "version": 3
   },
   "file_extension": ".py",
   "mimetype": "text/x-python",
   "name": "python",
   "nbconvert_exporter": "python",
   "pygments_lexer": "ipython3",
   "version": "3.12.7"
  },
  "latex_envs": {
   "LaTeX_envs_menu_present": true,
   "autoclose": false,
   "autocomplete": true,
   "bibliofile": "biblio.bib",
   "cite_by": "apalike",
   "current_citInitial": 1,
   "eqLabelWithNumbers": true,
   "eqNumInitial": 1,
   "hotkeys": {
    "equation": "Ctrl-E",
    "itemize": "Ctrl-I"
   },
   "labels_anchors": false,
   "latex_user_defs": false,
   "report_style_numbering": false,
   "user_envs_cfg": false
  },
  "nteract": {
   "version": "0.12.3"
  }
 },
 "nbformat": 4,
 "nbformat_minor": 4
}
